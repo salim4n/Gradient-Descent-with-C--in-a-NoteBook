{
 "cells": [
  {
   "cell_type": "markdown",
   "metadata": {},
   "source": [
    "# Gradient Descent With C# in NoteBook"
   ]
  },
  {
   "cell_type": "code",
   "execution_count": 25,
   "metadata": {
    "dotnet_interactive": {
     "language": "csharp"
    },
    "polyglot_notebook": {
     "kernelName": "csharp"
    },
    "vscode": {
     "languageId": "polyglot-notebook"
    }
   },
   "outputs": [],
   "source": [
    "using System;\n",
    "using System.Collections.Generic;\n",
    "using System.Linq;\n",
    "using System.Text;\n",
    "using System.Threading.Tasks;\n",
    "\n",
    "\n",
    "\n",
    "double[] x_train = new double[2];\n",
    "double[] y_train = new double[2];\n",
    "x_train[0] = 1;\n",
    "x_train[1] = 2;\n",
    "y_train[0] = 500;\n",
    "y_train[1] = 850;\n",
    "\n",
    "//let say we have 1 kg and 2 kg of gold at 500 and 850 dollars respectively.\n",
    "//We need to know the price of 3 kg of gold"
   ]
  },
  {
   "cell_type": "markdown",
   "metadata": {},
   "source": [
    "## Compute Cost"
   ]
  },
  {
   "cell_type": "code",
   "execution_count": null,
   "metadata": {
    "dotnet_interactive": {
     "language": "csharp"
    },
    "polyglot_notebook": {
     "kernelName": "csharp"
    },
    "vscode": {
     "languageId": "polyglot-notebook"
    }
   },
   "outputs": [],
   "source": [
    "double ComputeCost(double[] x, double[] y, double w, double b)\n",
    "{\n",
    "    double total_cost = 0;\n",
    "    for (int i = 0; i < x.Length; i++)\n",
    "    {\n",
    "        total_cost += Math.Pow((w * x[i] + b) - y[i], 2);\n",
    "    }\n",
    "    return total_cost / x.Length;\n",
    "}"
   ]
  },
  {
   "cell_type": "markdown",
   "metadata": {},
   "source": [
    "## Compute Gradient"
   ]
  },
  {
   "cell_type": "code",
   "execution_count": 27,
   "metadata": {
    "dotnet_interactive": {
     "language": "csharp"
    },
    "polyglot_notebook": {
     "kernelName": "csharp"
    },
    "vscode": {
     "languageId": "polyglot-notebook"
    }
   },
   "outputs": [],
   "source": [
    "Tuple<double, double> ComputeGradient(double[] x, double[] y, double w, double b)\n",
    "{\n",
    "    double w_gradient = 0;\n",
    "    double b_gradient = 0;\n",
    "    \n",
    "    for (int i = 0; i < x.Length; i++)\n",
    "    {\n",
    "        w_gradient += 2 * x[i] * ((w * x[i] + b) - y[i]);\n",
    "        b_gradient += 2 * ((w * x[i] + b) - y[i]);\n",
    "    }\n",
    "    return Tuple.Create(w_gradient / x.Length, b_gradient / x.Length);\n",
    "}"
   ]
  },
  {
   "cell_type": "markdown",
   "metadata": {},
   "source": [
    " ## Gradient Descent"
   ]
  },
  {
   "cell_type": "code",
   "execution_count": 28,
   "metadata": {
    "dotnet_interactive": {
     "language": "csharp"
    },
    "polyglot_notebook": {
     "kernelName": "csharp"
    },
    "vscode": {
     "languageId": "polyglot-notebook"
    }
   },
   "outputs": [],
   "source": [
    "Tuple<double, double, double[], double[]> GradientDescent(double[] x, double[] y, double w, double b, double learning_rate, int num_iterations)\n",
    "{\n",
    "    double cost = 0;\n",
    "    double[] costs = new double[num_iterations];\n",
    "    double[] weights = new double[num_iterations];\n",
    "    double[] biases = new double[num_iterations];\n",
    "    for (int i = 0; i < num_iterations; i++)\n",
    "    {\n",
    "        Tuple<double, double> gradients = ComputeGradient(x, y, w, b);\n",
    "        w -= learning_rate * gradients.Item1;\n",
    "        b -= learning_rate * gradients.Item2;\n",
    "        cost = ComputeCost(x, y, w, b);\n",
    "        costs[i] = cost;\n",
    "        weights[i] = w;\n",
    "        biases[i] = b;\n",
    "    }\n",
    "    return Tuple.Create(cost, w, weights, biases);\n",
    "}"
   ]
  },
  {
   "cell_type": "markdown",
   "metadata": {},
   "source": [
    "## Test of Gradient Descent"
   ]
  },
  {
   "cell_type": "code",
   "execution_count": 30,
   "metadata": {
    "dotnet_interactive": {
     "language": "csharp"
    },
    "polyglot_notebook": {
     "kernelName": "csharp"
    },
    "vscode": {
     "languageId": "polyglot-notebook"
    }
   },
   "outputs": [
    {
     "name": "stdout",
     "output_type": "stream",
     "text": [
      "Cost: 12,54175462595765\n",
      "w: 343,1066059177988\n",
      "b: 343,1066059177988\n"
     ]
    }
   ],
   "source": [
    "double w_init = 0;\n",
    "double b_init = 0;\n",
    "int iterations = 10000;\n",
    "double learning_rate = 0.001;\n",
    "\n",
    "Tuple<double, double, double[], double[]> result \n",
    "    = GradientDescent(x_train, y_train, w_init, b_init, learning_rate, iterations);\n",
    "\n",
    "Console.WriteLine(\"Cost: \" + result.Item1);\n",
    "Console.WriteLine(\"w: \" + result.Item2);\n",
    "Console.WriteLine(\"b: \" + result.Item3[iterations - 1]);"
   ]
  },
  {
   "cell_type": "markdown",
   "metadata": {},
   "source": [
    "## Prediction"
   ]
  },
  {
   "cell_type": "code",
   "execution_count": 38,
   "metadata": {
    "dotnet_interactive": {
     "language": "csharp"
    },
    "polyglot_notebook": {
     "kernelName": "csharp"
    },
    "vscode": {
     "languageId": "polyglot-notebook"
    }
   },
   "outputs": [
    {
     "name": "stdout",
     "output_type": "stream",
     "text": [
      "Predicted value for 3 is 1372,43 dollars\n",
      "Predicted value for 4 is 1715,53 dollars\n"
     ]
    }
   ],
   "source": [
    "double[] x_test = new double[2];\n",
    "x_test[0] = 3;\n",
    "x_test[1] = 4;\n",
    "for (int i = 0; i < x_test.Length; i++)\n",
    "{\n",
    "    Console.WriteLine(\"Predicted value for \" + x_test[i] + \" is \" + Math.Round((result.Item2 * x_test[i] + result.Item3[iterations - 1]), 2) + \" dollars\");\n",
    "}\n"
   ]
  },
  {
   "cell_type": "code",
   "execution_count": null,
   "metadata": {
    "dotnet_interactive": {
     "language": "csharp"
    },
    "polyglot_notebook": {
     "kernelName": "csharp"
    },
    "vscode": {
     "languageId": "polyglot-notebook"
    }
   },
   "outputs": [],
   "source": []
  }
 ],
 "metadata": {
  "kernelspec": {
   "display_name": ".NET (C#)",
   "language": "C#",
   "name": ".net-csharp"
  },
  "language_info": {
   "file_extension": ".cs",
   "mimetype": "text/x-csharp",
   "name": "C#",
   "pygments_lexer": "csharp",
   "version": "11.0"
  },
  "orig_nbformat": 4
 },
 "nbformat": 4,
 "nbformat_minor": 2
}
